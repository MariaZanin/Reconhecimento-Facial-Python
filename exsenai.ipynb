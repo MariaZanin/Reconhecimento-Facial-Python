{
 "cells": [
  {
   "cell_type": "code",
   "execution_count": 1,
   "metadata": {},
   "outputs": [
    {
     "data": {
      "text/plain": [
       "<function destroyAllWindows>"
      ]
     },
     "execution_count": 1,
     "metadata": {},
     "output_type": "execute_result"
    },
    {
     "ename": "",
     "evalue": "",
     "output_type": "error",
     "traceback": [
      "\u001b[1;31mThe Kernel crashed while executing code in the the current cell or a previous cell. Please review the code in the cell(s) to identify a possible cause of the failure. Click <a href='https://aka.ms/vscodeJupyterKernelCrash'>here</a> for more info. View Jupyter <a href='command:jupyter.viewOutput'>log</a> for further details."
     ]
    }
   ],
   "source": [
    "import cv2 #openCv\n",
    "import mediapipe as mp\n",
    "\n",
    "#inicializar o openCv e o mediapipe\n",
    "\n",
    "webcam = cv2.VideoCapture(0)\n",
    "solucao_reconhecimento_rosto = mp.solutions.face_detection\n",
    "reconhecedor_rostos = solucao_reconhecimento_rosto.FaceDetection()\n",
    "desenho = mp.solutions.drawing_utils\n",
    "\n",
    "while True:\n",
    "    # Ler as informacoes da WebCam\n",
    "    verificador, frame = webcam.read()\n",
    "\n",
    "    if not verificador:\n",
    "        break\n",
    "\n",
    "\n",
    "    # Reconhecer os rostos\n",
    "    lista_rostos = reconhecedor_rostos.process(frame)\n",
    "\n",
    "    if lista_rostos:\n",
    "        for rosto in lista_rostos.detections:\n",
    "    # desenhar os rostos na imagem\n",
    "            desenho.draw_detection(frame, rosto)\n",
    "\n",
    "    cv2.imshow(\"Rostos na WebCam\", frame)\n",
    "    # quando apertar ESC, para o LOOP\n",
    "    if cv2.waitKey(10) == 27:   # 27  = codigo da tecla ESC\n",
    "        break\n",
    "\n",
    "webcam.release()\n",
    "cv2.destroyAllWindows"
   ]
  },
  {
   "cell_type": "code",
   "execution_count": 1,
   "metadata": {},
   "outputs": [
    {
     "name": "stdout",
     "output_type": "stream",
     "text": [
      "Note: you may need to restart the kernel to use updated packages.Collecting opencv-python\n",
      "  Downloading opencv_python-4.8.1.78-cp37-abi3-win_amd64.whl (38.1 MB)\n",
      "     ---------------------------------------- 38.1/38.1 MB 6.1 MB/s eta 0:00:00\n",
      "Requirement already satisfied: numpy>=1.21.2 in c:\\users\\estudante\\appdata\\local\\programs\\python\\python311\\lib\\site-packages (from opencv-python) (1.25.2)\n",
      "Installing collected packages: opencv-python\n",
      "Successfully installed opencv-python-4.8.1.78\n",
      "\n"
     ]
    },
    {
     "name": "stderr",
     "output_type": "stream",
     "text": [
      "\n",
      "[notice] A new release of pip available: 22.3.1 -> 23.3\n",
      "[notice] To update, run: python.exe -m pip install --upgrade pip\n"
     ]
    }
   ],
   "source": [
    "%pip install opencv-python"
   ]
  },
  {
   "cell_type": "code",
   "execution_count": 2,
   "metadata": {},
   "outputs": [
    {
     "name": "stdout",
     "output_type": "stream",
     "text": [
      "Collecting mediapipe\n",
      "  Downloading mediapipe-0.10.7-cp311-cp311-win_amd64.whl (50.3 MB)\n",
      "     ---------------------------------------- 50.3/50.3 MB 7.0 MB/s eta 0:00:00\n",
      "Collecting absl-py\n",
      "  Downloading absl_py-2.0.0-py3-none-any.whl (130 kB)\n",
      "     -------------------------------------- 130.2/130.2 kB 2.6 MB/s eta 0:00:00\n",
      "Collecting attrs>=19.1.0\n",
      "  Downloading attrs-23.1.0-py3-none-any.whl (61 kB)\n",
      "     ---------------------------------------- 61.2/61.2 kB 1.6 MB/s eta 0:00:00\n",
      "Collecting flatbuffers>=2.0\n",
      "  Downloading flatbuffers-23.5.26-py2.py3-none-any.whl (26 kB)\n",
      "Collecting matplotlib\n",
      "  Downloading matplotlib-3.8.0-cp311-cp311-win_amd64.whl (7.6 MB)\n",
      "     ---------------------------------------- 7.6/7.6 MB 10.0 MB/s eta 0:00:00\n",
      "Requirement already satisfied: numpy in c:\\users\\estudante\\appdata\\local\\programs\\python\\python311\\lib\\site-packages (from mediapipe) (1.25.2)\n",
      "Collecting opencv-contrib-python\n",
      "  Downloading opencv_contrib_python-4.8.1.78-cp37-abi3-win_amd64.whl (44.8 MB)\n",
      "     ---------------------------------------- 44.8/44.8 MB 8.0 MB/s eta 0:00:00\n",
      "Collecting protobuf<4,>=3.11\n",
      "  Downloading protobuf-3.20.3-py2.py3-none-any.whl (162 kB)\n",
      "     -------------------------------------- 162.1/162.1 kB 1.6 MB/s eta 0:00:00\n",
      "Collecting sounddevice>=0.4.4\n",
      "  Downloading sounddevice-0.4.6-py3-none-win_amd64.whl (199 kB)\n",
      "     -------------------------------------- 199.7/199.7 kB 3.1 MB/s eta 0:00:00\n",
      "Collecting CFFI>=1.0\n",
      "  Downloading cffi-1.16.0-cp311-cp311-win_amd64.whl (181 kB)\n",
      "     -------------------------------------- 181.5/181.5 kB 3.6 MB/s eta 0:00:00\n",
      "Collecting contourpy>=1.0.1\n",
      "  Downloading contourpy-1.1.1-cp311-cp311-win_amd64.whl (480 kB)\n",
      "     -------------------------------------- 480.5/480.5 kB 5.1 MB/s eta 0:00:00\n",
      "Collecting cycler>=0.10\n",
      "  Downloading cycler-0.12.1-py3-none-any.whl (8.3 kB)\n",
      "Collecting fonttools>=4.22.0\n",
      "  Downloading fonttools-4.43.1-cp311-cp311-win_amd64.whl (2.1 MB)\n",
      "     ---------------------------------------- 2.1/2.1 MB 4.9 MB/s eta 0:00:00\n",
      "Collecting kiwisolver>=1.0.1\n",
      "  Downloading kiwisolver-1.4.5-cp311-cp311-win_amd64.whl (56 kB)\n",
      "     ---------------------------------------- 56.1/56.1 kB 1.5 MB/s eta 0:00:00\n",
      "Requirement already satisfied: packaging>=20.0 in c:\\users\\estudante\\appdata\\roaming\\python\\python311\\site-packages (from matplotlib->mediapipe) (23.1)\n",
      "Collecting pillow>=6.2.0\n",
      "  Downloading Pillow-10.1.0-cp311-cp311-win_amd64.whl (2.6 MB)\n",
      "     ---------------------------------------- 2.6/2.6 MB 7.6 MB/s eta 0:00:00\n",
      "Collecting pyparsing>=2.3.1\n",
      "  Downloading pyparsing-3.1.1-py3-none-any.whl (103 kB)\n",
      "     ------------------------------------ 103.1/103.1 kB 312.8 kB/s eta 0:00:00\n",
      "Requirement already satisfied: python-dateutil>=2.7 in c:\\users\\estudante\\appdata\\roaming\\python\\python311\\site-packages (from matplotlib->mediapipe) (2.8.2)\n",
      "Collecting pycparser\n",
      "  Downloading pycparser-2.21-py2.py3-none-any.whl (118 kB)\n",
      "     -------------------------------------- 118.7/118.7 kB 2.3 MB/s eta 0:00:00\n",
      "Requirement already satisfied: six>=1.5 in c:\\users\\estudante\\appdata\\roaming\\python\\python311\\site-packages (from python-dateutil>=2.7->matplotlib->mediapipe) (1.16.0)\n",
      "Installing collected packages: flatbuffers, pyparsing, pycparser, protobuf, pillow, opencv-contrib-python, kiwisolver, fonttools, cycler, contourpy, attrs, absl-py, matplotlib, CFFI, sounddevice, mediapipe\n",
      "Successfully installed CFFI-1.16.0 absl-py-2.0.0 attrs-23.1.0 contourpy-1.1.1 cycler-0.12.1 flatbuffers-23.5.26 fonttools-4.43.1 kiwisolver-1.4.5 matplotlib-3.8.0 mediapipe-0.10.7 opencv-contrib-python-4.8.1.78 pillow-10.1.0 protobuf-3.20.3 pycparser-2.21 pyparsing-3.1.1 sounddevice-0.4.6\n",
      "Note: you may need to restart the kernel to use updated packages.\n"
     ]
    },
    {
     "name": "stderr",
     "output_type": "stream",
     "text": [
      "\n",
      "[notice] A new release of pip available: 22.3.1 -> 23.3\n",
      "[notice] To update, run: python.exe -m pip install --upgrade pip\n"
     ]
    }
   ],
   "source": [
    "%pip install mediapipe"
   ]
  }
 ],
 "metadata": {
  "kernelspec": {
   "display_name": "Python 3",
   "language": "python",
   "name": "python3"
  },
  "language_info": {
   "codemirror_mode": {
    "name": "ipython",
    "version": 3
   },
   "file_extension": ".py",
   "mimetype": "text/x-python",
   "name": "python",
   "nbconvert_exporter": "python",
   "pygments_lexer": "ipython3",
   "version": "3.11.1"
  }
 },
 "nbformat": 4,
 "nbformat_minor": 2
}
