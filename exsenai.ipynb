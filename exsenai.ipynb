{
  "cells": [
    {
      "cell_type": "markdown",
      "metadata": {
        "id": "view-in-github",
        "colab_type": "text"
      },
      "source": [
        "<a href=\"https://colab.research.google.com/github/MariaZanin/Reconhecimento-Facial-Python/blob/main/exsenai.ipynb\" target=\"_parent\"><img src=\"https://colab.research.google.com/assets/colab-badge.svg\" alt=\"Open In Colab\"/></a>"
      ]
    },
    {
      "cell_type": "code",
      "execution_count": null,
      "metadata": {
        "id": "FtVPtiE_dYEI"
      },
      "outputs": [],
      "source": [
        "import cv2 #openCv\n",
        "import mediapipe as mp\n",
        "\n",
        "#inicializar o openCv e o mediapipe\n",
        "\n",
        "webcam = cv2.VideoCapture(0)\n",
        "solucao_reconhecimento_rosto = mp.solutions.face_detection\n",
        "reconhecedor_rostos = solucao_reconhecimento_rosto.FaceDetection()\n",
        "desenho = mp.solutions.drawing_utils\n",
        "\n",
        "while True:\n",
        "    # Ler as informacoes da WebCam\n",
        "    verificador, frame = webcam.read()\n",
        "\n",
        "    if not verificador:\n",
        "        break\n",
        "\n",
        "\n",
        "    # Reconhecer os rostos\n",
        "    lista_rostos = reconhecedor_rostos.process(frame)\n",
        "\n",
        "    if lista_rostos:\n",
        "        for rosto in lista_rostos.detections:\n",
        "    # desenhar os rostos na imagem\n",
        "            desenho.draw_detection(frame, rosto)\n",
        "\n",
        "    cv2.imshow(\"Rostos na WebCam\", frame)\n",
        "    # quando apertar ESC, para o LOOP\n",
        "    if cv2.waitKey(10) == 27:   # 27  = codigo da tecla ESC\n",
        "        break\n",
        "\n",
        "webcam.release()\n",
        "cv2.destroyAllWindows"
      ]
    },
    {
      "cell_type": "code",
      "execution_count": null,
      "metadata": {
        "id": "ylNHqF7XdYEO"
      },
      "outputs": [],
      "source": [
        "%pip install opencv-python"
      ]
    },
    {
      "cell_type": "code",
      "execution_count": null,
      "metadata": {
        "id": "Bfrun5Z4dYEP"
      },
      "outputs": [],
      "source": [
        "%pip install mediapipe"
      ]
    }
  ],
  "metadata": {
    "kernelspec": {
      "display_name": "Python 3",
      "language": "python",
      "name": "python3"
    },
    "language_info": {
      "codemirror_mode": {
        "name": "ipython",
        "version": 3
      },
      "file_extension": ".py",
      "mimetype": "text/x-python",
      "name": "python",
      "nbconvert_exporter": "python",
      "pygments_lexer": "ipython3",
      "version": "3.11.1"
    },
    "colab": {
      "provenance": [],
      "include_colab_link": true
    }
  },
  "nbformat": 4,
  "nbformat_minor": 0
}